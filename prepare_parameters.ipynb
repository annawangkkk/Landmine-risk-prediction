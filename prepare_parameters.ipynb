{
 "cells": [
  {
   "cell_type": "markdown",
   "metadata": {},
   "source": [
    "prepare a json file to store parameters"
   ]
  },
  {
   "cell_type": "code",
   "execution_count": 1,
   "metadata": {},
   "outputs": [],
   "source": [
    "import json\n",
    "from datetime import datetime\n",
    "import numpy as np\n",
    "\n",
    "train_params = dict()"
   ]
  },
  {
   "cell_type": "markdown",
   "metadata": {},
   "source": [
    "default parameters"
   ]
  },
  {
   "cell_type": "code",
   "execution_count": 2,
   "metadata": {
    "collapsed": true,
    "deletable": false,
    "editable": false
   },
   "outputs": [],
   "source": [
    "train_params[\"seed\"] = 17737\n",
    "train_params[\"root\"] = \"/Users/zengzh/Desktop/17737/repo\"\n",
    "train_params[\"verbose\"] = True\n",
    "train_params[\"curr_time\"] = datetime.now().strftime(\"%m%d%Y%H%M%S\") \n",
    "train_params[\"numeric_cols\"] = ['elevation', 'population_2020','rwi',\n",
    "                'No. Víctimas por Declaración', 'No. Sujetos Atención ',\n",
    "                'Acto terrorista, Atentados, Combates, Enfrentamientos, Hostigamientos',\n",
    "                'Amenaza',\n",
    "                'Delitos contra la Libertad y la Integridad sexual en desarrollo del conflicto Armado',\n",
    "                'Desaparición forzada', 'Desplazamiento Forzado', 'Homicidio, Masacre',\n",
    "                'Vincuación de Niños, Niñas y Adolescentes a actividades relacionadas con grupos armados',\n",
    "                'Secuestro', 'Tortura', \n",
    "                'Perdida de Bienes Muebles o Inmuebles ', 'Lesiones Personales Fisicas',\n",
    "                'Lesiones Personales Psicologicas',\n",
    "                'comimo_dist', 'airports_dist', 'seaport_dist', 'settlement_dist',\n",
    "                'finance_dist', 'edu_dist', 'buildings_dist', 'railways_dist',\n",
    "                'waterways_dist', 'roads_dist', 'coca_dist']\n",
    "train_params[\"binary_cols\"] = ['Vocacion_Agroforestal', 'Vocacion_Agrícola',\n",
    "       'Vocacion_Conservación de Suelos', 'Vocacion_Cuerpo de agua',\n",
    "       'Vocacion_Forestal', 'Vocacion_Ganadera', 'Vocacion_Zonas urbanas',\n",
    "       'CLIMA_Cuerpo de agua', 'CLIMA_Cálido húmedo',\n",
    "       'CLIMA_Cálido húmedo a muy húmedo', 'CLIMA_Cálido seco',\n",
    "       'CLIMA_Cálido seco a húmedo', 'CLIMA_Frío húmedo a muy húmedo',\n",
    "       'CLIMA_Frío húmedo y frío muy húmedo', 'CLIMA_Frío muy húmedo',\n",
    "       'CLIMA_Muy frío y muy húmedo', 'CLIMA_Templado húmedo a muy húmedo',\n",
    "       'CLIMA_Zona urbana', 'TIPO_RELIE_Cuerpo de agua',\n",
    "       'TIPO_RELIE_Espinazos', 'TIPO_RELIE_Filas y vigas',\n",
    "       'TIPO_RELIE_Glacís coluvial y coluvios de remoción',\n",
    "       'TIPO_RELIE_Glacís y coluvios de remoción',\n",
    "       'TIPO_RELIE_Lomas y colinas', 'TIPO_RELIE_Plano de inundación',\n",
    "       'TIPO_RELIE_Terrazas', 'TIPO_RELIE_Terrazas y abanicos terrazas',\n",
    "       'TIPO_RELIE_Vallecitos', 'TIPO_RELIE_Vallecitos coluvio-aluviales',\n",
    "       'TIPO_RELIE_Zona urbana']\n",
    "train_params[\"models\"] = ['SVM','LGBM','GP']\n",
    "train_params[\"nu\"] = 0.31\n",
    "train_params[\"num_leaves\"] = 45\n",
    "train_params[\"epochs\"] = 200\n",
    "train_params[\"reg_parameters\"] = list(np.geomspace(5e-2,1e2,13)) # do not change the lower bound\n",
    "train_params[\"isfull\"] = 0 "
   ]
  },
  {
   "cell_type": "markdown",
   "metadata": {},
   "source": [
    "debug parameters"
   ]
  },
  {
   "cell_type": "code",
   "execution_count": 11,
   "metadata": {},
   "outputs": [],
   "source": [
    "train_params[\"seed\"] = 17737\n",
    "train_params[\"root\"] = \"/Users/zengzh/Desktop/17737/repo\"\n",
    "train_params[\"verbose\"] = True\n",
    "train_params[\"curr_time\"] = datetime.now().strftime(\"%m%d%Y%H%M%S\") \n",
    "train_params[\"numeric_cols\"] = ['elevation', 'population_2020','rwi',\n",
    "                'No. Víctimas por Declaración', 'No. Sujetos Atención ',\n",
    "                'Acto terrorista, Atentados, Combates, Enfrentamientos, Hostigamientos',\n",
    "                'Amenaza',\n",
    "                'Delitos contra la Libertad y la Integridad sexual en desarrollo del conflicto Armado',\n",
    "                'Desaparición forzada', 'Desplazamiento Forzado', 'Homicidio, Masacre',\n",
    "                'Vincuación de Niños, Niñas y Adolescentes a actividades relacionadas con grupos armados',\n",
    "                'Secuestro', 'Tortura', \n",
    "                'Perdida de Bienes Muebles o Inmuebles ', 'Lesiones Personales Fisicas',\n",
    "                'Lesiones Personales Psicologicas',\n",
    "                'comimo_dist', 'airports_dist', 'seaport_dist', 'settlement_dist',\n",
    "                'finance_dist', 'edu_dist', 'buildings_dist', 'railways_dist',\n",
    "                'waterways_dist', 'roads_dist', 'coca_dist']\n",
    "train_params[\"binary_cols\"] = ['Vocacion_Agroforestal', 'Vocacion_Agrícola',\n",
    "       'Vocacion_Conservación de Suelos', 'Vocacion_Cuerpo de agua',\n",
    "       'Vocacion_Forestal', 'Vocacion_Ganadera', 'Vocacion_Zonas urbanas',\n",
    "       'CLIMA_Cuerpo de agua', 'CLIMA_Cálido húmedo',\n",
    "       'CLIMA_Cálido húmedo a muy húmedo', 'CLIMA_Cálido seco',\n",
    "       'CLIMA_Cálido seco a húmedo', 'CLIMA_Frío húmedo a muy húmedo',\n",
    "       'CLIMA_Frío húmedo y frío muy húmedo', 'CLIMA_Frío muy húmedo',\n",
    "       'CLIMA_Muy frío y muy húmedo', 'CLIMA_Templado húmedo a muy húmedo',\n",
    "       'CLIMA_Zona urbana', 'TIPO_RELIE_Cuerpo de agua',\n",
    "       'TIPO_RELIE_Espinazos', 'TIPO_RELIE_Filas y vigas',\n",
    "       'TIPO_RELIE_Glacís coluvial y coluvios de remoción',\n",
    "       'TIPO_RELIE_Glacís y coluvios de remoción',\n",
    "       'TIPO_RELIE_Lomas y colinas', 'TIPO_RELIE_Plano de inundación',\n",
    "       'TIPO_RELIE_Terrazas', 'TIPO_RELIE_Terrazas y abanicos terrazas',\n",
    "       'TIPO_RELIE_Vallecitos', 'TIPO_RELIE_Vallecitos coluvio-aluviales',\n",
    "       'TIPO_RELIE_Zona urbana']\n",
    "train_params[\"models\"] = ['SVM']\n",
    "train_params[\"nu\"] = 0.31\n",
    "train_params[\"num_leaves\"] = 45\n",
    "train_params[\"epochs\"] = 5\n",
    "train_params[\"reg_parameters\"] = list(np.geomspace(5e-2,1e2,3)) \n",
    "train_params[\"isfull\"] = 0"
   ]
  },
  {
   "cell_type": "code",
   "execution_count": 9,
   "metadata": {},
   "outputs": [],
   "source": [
    "train_params[\"seed\"] = 17737\n",
    "train_params[\"root\"] = \"/Users/zengzh/Desktop/Landmine-risk-prediction\"\n",
    "train_params[\"verbose\"] = True\n",
    "train_params[\"curr_time\"] = datetime.now().strftime(\"%m%d%Y%H%M%S\") \n",
    "train_params[\"numeric_cols\"] = ['elevation', 'population_2020','rwi',\n",
    "                'No. Víctimas por Declaración', 'No. Sujetos Atención ',\n",
    "                'Acto terrorista, Atentados, Combates, Enfrentamientos, Hostigamientos',\n",
    "                'Amenaza',\n",
    "                'Delitos contra la Libertad y la Integridad sexual en desarrollo del conflicto Armado',\n",
    "                'Desaparición forzada', 'Desplazamiento Forzado', 'Homicidio, Masacre',\n",
    "                'Vincuación de Niños, Niñas y Adolescentes a actividades relacionadas con grupos armados',\n",
    "                'Secuestro', 'Tortura', \n",
    "                'Perdida de Bienes Muebles o Inmuebles ', 'Lesiones Personales Fisicas',\n",
    "                'Lesiones Personales Psicologicas',\n",
    "                'comimo_dist', 'airports_dist', 'seaport_dist', 'settlement_dist',\n",
    "                'finance_dist', 'edu_dist', 'buildings_dist', 'railways_dist',\n",
    "                'waterways_dist', 'roads_dist', 'coca_dist']\n",
    "train_params[\"binary_cols\"] = ['Vocacion_Agroforestal', 'Vocacion_Agrícola',\n",
    "       'Vocacion_Conservación de Suelos', 'Vocacion_Cuerpo de agua',\n",
    "       'Vocacion_Forestal', 'Vocacion_Ganadera', 'Vocacion_Zonas urbanas',\n",
    "       'CLIMA_Cuerpo de agua', 'CLIMA_Cálido húmedo',\n",
    "       'CLIMA_Cálido húmedo a muy húmedo', 'CLIMA_Cálido seco',\n",
    "       'CLIMA_Cálido seco a húmedo', 'CLIMA_Frío húmedo a muy húmedo',\n",
    "       'CLIMA_Frío húmedo y frío muy húmedo', 'CLIMA_Frío muy húmedo',\n",
    "       'CLIMA_Muy frío y muy húmedo', 'CLIMA_Templado húmedo a muy húmedo',\n",
    "       'CLIMA_Zona urbana', 'TIPO_RELIE_Cuerpo de agua',\n",
    "       'TIPO_RELIE_Espinazos', 'TIPO_RELIE_Filas y vigas',\n",
    "       'TIPO_RELIE_Glacís coluvial y coluvios de remoción',\n",
    "       'TIPO_RELIE_Glacís y coluvios de remoción',\n",
    "       'TIPO_RELIE_Lomas y colinas', 'TIPO_RELIE_Plano de inundación',\n",
    "       'TIPO_RELIE_Terrazas', 'TIPO_RELIE_Terrazas y abanicos terrazas',\n",
    "       'TIPO_RELIE_Vallecitos', 'TIPO_RELIE_Vallecitos coluvio-aluviales',\n",
    "       'TIPO_RELIE_Zona urbana']\n",
    "train_params[\"models\"] = ['LGBM']\n",
    "train_params[\"nu\"] = 0.31\n",
    "train_params[\"num_leaves\"] = 45\n",
    "train_params[\"epochs\"] = 5\n",
    "train_params[\"reg_parameters\"] = list(np.geomspace(5e-2,1e2,13)) \n",
    "train_params[\"isfull\"] = 0"
   ]
  },
  {
   "cell_type": "code",
   "execution_count": 10,
   "metadata": {},
   "outputs": [
    {
     "name": "stdout",
     "output_type": "stream",
     "text": [
      "/Users/zengzh/Desktop/Landmine-risk-prediction/params_exp05052022151323.json successfully saved.\n",
      "Please run the following command in the Terminal to train models:\n",
      "python train.py --load_json '/Users/zengzh/Desktop/Landmine-risk-prediction/params_exp05052022151323.json'\n"
     ]
    }
   ],
   "source": [
    "json_file_name = train_params[\"root\"] + f'/params_exp{train_params[\"curr_time\"]}.json'\n",
    "with open(json_file_name, 'w', encoding='utf8') as f:\n",
    "    json.dump(train_params, f, sort_keys=True, indent=4, ensure_ascii=False)\n",
    "    print(f\"{json_file_name} successfully saved.\")\n",
    "    print(\"Please run the following command in the Terminal to train models:\")\n",
    "    print(f\"python train.py --load_json \\'{json_file_name}\\'\")"
   ]
  }
 ],
 "metadata": {
  "kernelspec": {
   "display_name": "Python 3 (ipykernel)",
   "language": "python",
   "name": "python3"
  },
  "language_info": {
   "codemirror_mode": {
    "name": "ipython",
    "version": 3
   },
   "file_extension": ".py",
   "mimetype": "text/x-python",
   "name": "python",
   "nbconvert_exporter": "python",
   "pygments_lexer": "ipython3",
   "version": "3.8.6"
  }
 },
 "nbformat": 4,
 "nbformat_minor": 2
}
