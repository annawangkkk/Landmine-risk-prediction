{
 "cells": [
  {
   "cell_type": "code",
   "execution_count": 3,
   "metadata": {},
   "outputs": [],
   "source": [
    "import pandas as pd\n",
    "import numpy as np\n",
    "\n",
    "from sklearn.preprocessing import StandardScaler\n",
    "from sklearn.model_selection import KFold\n",
    "from sklearn.metrics import roc_auc_score\n",
    "from sklearn.svm import NuSVC\n",
    "from sklearn.linear_model import LogisticRegression\n",
    "from sklearn.impute import KNNImputer\n",
    "import lightgbm as lgb\n",
    "\n",
    "import pickle\n",
    "import os\n",
    "import argparse\n",
    "import json\n",
    "import sys\n",
    "import copy\n",
    "from datetime import datetime"
   ]
  },
  {
   "cell_type": "code",
   "execution_count": 14,
   "metadata": {},
   "outputs": [
    {
     "data": {
      "text/plain": [
       "'\\nfor seed in seeds:\\n    np.random.seed(seed)\\n    current_time = datetime.now().strftime(\"%m%d%Y%H%M%S\") \\n    save_path = root + f\\'/exp/{current_time}\\'\\n    print(\"All experiment results will be saved in\", save_path)\\n        \\n    redo = False\\n    if not os.path.exists(save_path):\\n        os.makedirs(save_path)\\n    else:\\n        msg = input(f\"Are you sure to OVERWRITE THE PROBABILITY OUTPUT IN {save_path}? \")\\n        if (msg.lower() == \\'yes\\' or msg.lower() == \\'y\\'):\\n            redo = True\\n        else:\\n            sys.exit(\"Terminated by user.\")\\n\\n    numeric_cols = numeric_cols \\n    binary_cols = args.binary_cols\\n\\n    features = numeric_cols + binary_cols\\n    X = np.array(grid_clean[features]) # all labeled X\\n    y = np.array(grid_clean[\\'mines_outcome\\']) # all labeled y\\n    imputer = KNNImputer(n_neighbors = 10, weights = \\'distance\\')\\n    scaler = StandardScaler()\\n'"
      ]
     },
     "execution_count": 14,
     "metadata": {},
     "output_type": "execute_result"
    }
   ],
   "source": [
    "#[0,.....end at index 7018]\n",
    "# from 7019, start test region\n",
    "seeds = range(5)\n",
    "root = '/home/siqiz/social_good/Landmine-risk-prediction'\n",
    "all = pd.read_csv(root + f'')\n",
    "train_all = pd.read_csv(root + f'/processed_dataset/train/train_all.csv')\n",
    "test_all = pd.read_csv(root + f'/processed_dataset/test/test_all.csv')\n",
    "train_col = set(train_all.columns)\n",
    "test_col = set(test_all.columns)\n",
    "both_col = test_col.intersection(train_col)\n",
    "all = pd.merge(train_all, test_all, on=list(both_col), how='outer')\n",
    "'''\n",
    "for seed in seeds:\n",
    "    np.random.seed(seed)\n",
    "    current_time = datetime.now().strftime(\"%m%d%Y%H%M%S\") \n",
    "    save_path = root + f'/exp/{current_time}'\n",
    "    print(\"All experiment results will be saved in\", save_path)\n",
    "        \n",
    "    redo = False\n",
    "    if not os.path.exists(save_path):\n",
    "        os.makedirs(save_path)\n",
    "    else:\n",
    "        msg = input(f\"Are you sure to OVERWRITE THE PROBABILITY OUTPUT IN {save_path}? \")\n",
    "        if (msg.lower() == 'yes' or msg.lower() == 'y'):\n",
    "            redo = True\n",
    "        else:\n",
    "            sys.exit(\"Terminated by user.\")\n",
    "\n",
    "    numeric_cols = numeric_cols \n",
    "    binary_cols = args.binary_cols\n",
    "\n",
    "    features = numeric_cols + binary_cols\n",
    "    X = np.array(grid_clean[features]) # all labeled X\n",
    "    y = np.array(grid_clean['mines_outcome']) # all labeled y\n",
    "    imputer = KNNImputer(n_neighbors = 10, weights = 'distance')\n",
    "    scaler = StandardScaler()\n",
    "'''"
   ]
  },
  {
   "cell_type": "code",
   "execution_count": 21,
   "metadata": {},
   "outputs": [],
   "source": [
    "all.to_csv(root + f'/processed_dataset/all/all.csv')"
   ]
  },
  {
   "cell_type": "code",
   "execution_count": null,
   "metadata": {},
   "outputs": [],
   "source": [
    "def fillNA(train_binary, train_numeric, test_binary, test_numeric):\n",
    "    \n",
    "\n",
    "def preprocess_X(X_train_init, X_test_init):\n",
    "    '''\n",
    "        X_train: numpy array\n",
    "        X_test: numpy array\n",
    "    '''\n",
    "    # fit scaler and imputer on X_train\n",
    "    # transform both X_train and X_test\n",
    "    X_train = copy.deepcopy(X_train_init)\n",
    "    X_test = copy.deepcopy(X_test_init)\n",
    "    train_imputer = imputer.fit(X_train)\n",
    "    idx = np.argwhere(np.isnan(X_train).any(axis=0)).flatten() # find the rwi column\n",
    "    if len(idx) > 0:\n",
    "        X_train[:,idx] = train_imputer.transform(X_train)[:,idx]\n",
    "        X_test[:,idx] = train_imputer.transform(X_test)[:,idx]\n",
    "    train_scaler = scaler.fit(X_train[:, 0:len(numeric_cols)])\n",
    "    X_train[:, 0:len(numeric_cols)] = train_scaler.transform(X_train[:, 0:len(numeric_cols)])\n",
    "    X_test[:, 0:len(numeric_cols)] = train_scaler.transform(X_test[:, 0:len(numeric_cols)])\n",
    "    return X_train, X_test"
   ]
  }
 ],
 "metadata": {
  "kernelspec": {
   "display_name": "Python 3.7.11 ('py37': conda)",
   "language": "python",
   "name": "python3"
  },
  "language_info": {
   "codemirror_mode": {
    "name": "ipython",
    "version": 3
   },
   "file_extension": ".py",
   "mimetype": "text/x-python",
   "name": "python",
   "nbconvert_exporter": "python",
   "pygments_lexer": "ipython3",
   "version": "3.7.11"
  },
  "orig_nbformat": 4,
  "vscode": {
   "interpreter": {
    "hash": "7336ca1451f74a93ed27c06444c8fe4d33ef54af726ebc8cf1e2045f9a2e53b2"
   }
  }
 },
 "nbformat": 4,
 "nbformat_minor": 2
}
