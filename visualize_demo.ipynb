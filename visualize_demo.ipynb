{
 "cells": [
  {
   "cell_type": "markdown",
   "metadata": {},
   "source": [
    "### How to use functions in visualize_utils.py"
   ]
  },
  {
   "cell_type": "code",
   "execution_count": 3,
   "metadata": {},
   "outputs": [],
   "source": [
    "from visualize_utils import *\n",
    "from train import load_models\n",
    "import pandas as pd"
   ]
  },
  {
   "cell_type": "code",
   "execution_count": 4,
   "metadata": {},
   "outputs": [],
   "source": [
    "curr_time = \"200505\" # CHANGE ME\n",
    "save_path = f\"/Users/zengzh/Desktop/17737/repo/exp/{curr_time}\""
   ]
  },
  {
   "cell_type": "markdown",
   "metadata": {},
   "source": [
    "SVM"
   ]
  },
  {
   "cell_type": "code",
   "execution_count": null,
   "metadata": {},
   "outputs": [
    {
     "data": {
      "text/plain": [
       "<Figure size 432x288 with 0 Axes>"
      ]
     },
     "metadata": {},
     "output_type": "display_data"
    },
    {
     "data": {
      "text/plain": [
       "<Figure size 1080x684 with 0 Axes>"
      ]
     },
     "metadata": {},
     "output_type": "display_data"
    },
    {
     "data": {
      "text/plain": [
       "<Figure size 1080x684 with 0 Axes>"
      ]
     },
     "metadata": {},
     "output_type": "display_data"
    },
    {
     "data": {
      "text/plain": [
       "<Figure size 1080x684 with 0 Axes>"
      ]
     },
     "metadata": {},
     "output_type": "display_data"
    },
    {
     "data": {
      "text/plain": [
       "<Figure size 1080x684 with 0 Axes>"
      ]
     },
     "metadata": {},
     "output_type": "display_data"
    },
    {
     "data": {
      "text/plain": [
       "<Figure size 1080x684 with 0 Axes>"
      ]
     },
     "metadata": {},
     "output_type": "display_data"
    },
    {
     "data": {
      "text/plain": [
       "<Figure size 1080x684 with 0 Axes>"
      ]
     },
     "metadata": {},
     "output_type": "display_data"
    },
    {
     "data": {
      "text/plain": [
       "<Figure size 1080x684 with 0 Axes>"
      ]
     },
     "metadata": {},
     "output_type": "display_data"
    },
    {
     "data": {
      "text/plain": [
       "<Figure size 1080x684 with 0 Axes>"
      ]
     },
     "metadata": {},
     "output_type": "display_data"
    },
    {
     "data": {
      "text/plain": [
       "<Figure size 1080x684 with 0 Axes>"
      ]
     },
     "metadata": {},
     "output_type": "display_data"
    },
    {
     "data": {
      "text/plain": [
       "<Figure size 1080x684 with 0 Axes>"
      ]
     },
     "metadata": {},
     "output_type": "display_data"
    },
    {
     "data": {
      "text/plain": [
       "<Figure size 1080x684 with 0 Axes>"
      ]
     },
     "metadata": {},
     "output_type": "display_data"
    },
    {
     "data": {
      "text/plain": [
       "<Figure size 1080x684 with 0 Axes>"
      ]
     },
     "metadata": {},
     "output_type": "display_data"
    },
    {
     "data": {
      "text/plain": [
       "<Figure size 1080x684 with 0 Axes>"
      ]
     },
     "metadata": {},
     "output_type": "display_data"
    },
    {
     "data": {
      "text/plain": [
       "<Figure size 1080x684 with 0 Axes>"
      ]
     },
     "metadata": {},
     "output_type": "display_data"
    },
    {
     "data": {
      "text/plain": [
       "<Figure size 1080x684 with 0 Axes>"
      ]
     },
     "metadata": {},
     "output_type": "display_data"
    },
    {
     "data": {
      "text/plain": [
       "<Figure size 1080x684 with 0 Axes>"
      ]
     },
     "metadata": {},
     "output_type": "display_data"
    },
    {
     "data": {
      "text/plain": [
       "<Figure size 1080x684 with 0 Axes>"
      ]
     },
     "metadata": {},
     "output_type": "display_data"
    },
    {
     "data": {
      "text/plain": [
       "<Figure size 1080x684 with 0 Axes>"
      ]
     },
     "metadata": {},
     "output_type": "display_data"
    },
    {
     "data": {
      "text/plain": [
       "<Figure size 1080x684 with 0 Axes>"
      ]
     },
     "metadata": {},
     "output_type": "display_data"
    },
    {
     "data": {
      "text/plain": [
       "<Figure size 1080x684 with 0 Axes>"
      ]
     },
     "metadata": {},
     "output_type": "display_data"
    },
    {
     "data": {
      "text/plain": [
       "<Figure size 864x576 with 0 Axes>"
      ]
     },
     "metadata": {},
     "output_type": "display_data"
    }
   ],
   "source": [
    "model_name = 'SVM'\n",
    "model = load_models(model_name, save_path)\n",
    "output_proba = pd.read_csv(save_path + f\"/{model_name}_mines_proba.csv\")\n",
    "selected_feature_names = list(set(output_proba.columns) - set(['LATITUD_Y','LONGITUD_X','geometry','mines_outcome','prob'])) \n",
    "plot_proba_dist(output_proba, model_name, save_path)\n",
    "plot_PDP(model, model_name, output_proba, selected_feature_names, save_path)\n",
    "plot_heatmap(output_proba, model_name, save_path)"
   ]
  },
  {
   "cell_type": "markdown",
   "metadata": {},
   "source": [
    "LGBM"
   ]
  },
  {
   "cell_type": "code",
   "execution_count": 6,
   "metadata": {},
   "outputs": [
    {
     "name": "stdout",
     "output_type": "stream",
     "text": [
      "Something went wrong while plotting Desplazamiento Forzado\n",
      "Something went wrong while plotting TIPO_RELIE_Glacís coluvial y coluvios de remoción\n",
      "Something went wrong while plotting CLIMA_Frío muy húmedo\n",
      "Something went wrong while plotting TIPO_RELIE_Terrazas y abanicos terrazas\n",
      "Something went wrong while plotting Vocacion_Agroforestal\n",
      "Something went wrong while plotting Vocacion_Agrícola\n",
      "Something went wrong while plotting TIPO_RELIE_Vallecitos coluvio-aluviales\n",
      "Something went wrong while plotting TIPO_RELIE_Zona urbana\n",
      "Something went wrong while plotting CLIMA_Cálido seco a húmedo\n",
      "Something went wrong while plotting CLIMA_Cuerpo de agua\n",
      "Something went wrong while plotting TIPO_RELIE_Vallecitos\n",
      "Something went wrong while plotting CLIMA_Cálido húmedo\n",
      "Something went wrong while plotting Vocacion_Forestal\n",
      "Something went wrong while plotting Vocacion_Cuerpo de agua\n",
      "Something went wrong while plotting TIPO_RELIE_Filas y vigas\n",
      "Something went wrong while plotting TIPO_RELIE_Lomas y colinas\n",
      "Something went wrong while plotting TIPO_RELIE_Espinazos\n",
      "Something went wrong while plotting CLIMA_Frío húmedo y frío muy húmedo\n",
      "Something went wrong while plotting Amenaza\n",
      "Something went wrong while plotting CLIMA_Cálido húmedo a muy húmedo\n",
      "Something went wrong while plotting CLIMA_Frío húmedo a muy húmedo\n",
      "Something went wrong while plotting CLIMA_Templado húmedo a muy húmedo\n"
     ]
    }
   ],
   "source": [
    "model_name = 'LGBM'\n",
    "model = load_models(model_name, save_path)\n",
    "output_proba = pd.read_csv(save_path + f\"/{model_name}_mines_proba.csv\")\n",
    "selected_feature_names = list(set(output_proba.columns) - set(['LATITUD_Y','LONGITUD_X','geometry','mines_outcome','prob'])) \n",
    "plot_proba_dist(output_proba, model_name, save_path)\n",
    "plot_PDP(model, model_name, output_proba, selected_feature_names, save_path)\n",
    "plot_heatmap(output_proba, model_name, save_path)"
   ]
  },
  {
   "cell_type": "markdown",
   "metadata": {},
   "source": [
    "GP"
   ]
  },
  {
   "cell_type": "code",
   "execution_count": 7,
   "metadata": {},
   "outputs": [
    {
     "data": {
      "text/plain": [
       "<Figure size 432x288 with 0 Axes>"
      ]
     },
     "metadata": {},
     "output_type": "display_data"
    },
    {
     "data": {
      "text/plain": [
       "<Figure size 864x576 with 0 Axes>"
      ]
     },
     "metadata": {},
     "output_type": "display_data"
    }
   ],
   "source": [
    "model_name = 'GP'\n",
    "model = load_models(model_name, save_path)\n",
    "output_proba = pd.read_csv(save_path + f\"/{model_name}_mines_proba.csv\")\n",
    "selected_feature_names = list(set(output_proba.columns) - set(['LATITUD_Y','LONGITUD_X','geometry','mines_outcome','prob'])) \n",
    "plot_proba_dist(output_proba, model_name, save_path)\n",
    "plot_PDP(model, model_name, output_proba, selected_feature_names, save_path)\n",
    "plot_heatmap(output_proba, model_name, save_path)"
   ]
  }
 ],
 "metadata": {
  "interpreter": {
   "hash": "8c712361aca0e0dc94dba1f1de89c96fb82cf5e5a8e861878c7cae66c0bd5fe6"
  },
  "kernelspec": {
   "display_name": "Python 3.8.6 ('py38')",
   "language": "python",
   "name": "python3"
  },
  "language_info": {
   "codemirror_mode": {
    "name": "ipython",
    "version": 3
   },
   "file_extension": ".py",
   "mimetype": "text/x-python",
   "name": "python",
   "nbconvert_exporter": "python",
   "pygments_lexer": "ipython3",
   "version": "3.8.6"
  },
  "orig_nbformat": 4
 },
 "nbformat": 4,
 "nbformat_minor": 2
}
